{
  "nbformat": 4,
  "nbformat_minor": 0,
  "metadata": {
    "colab": {
      "private_outputs": true,
      "provenance": [],
      "collapsed_sections": [
        "RF6PRTg1CYjD",
        "9VZfIaDhDsxA",
        "EUtFKKqKFoCQ"
      ]
    },
    "kernelspec": {
      "name": "python3",
      "display_name": "Python 3"
    },
    "language_info": {
      "name": "python"
    }
  },
  "cells": [
    {
      "cell_type": "markdown",
      "source": [
        "\n",
        "# Blibiotecas\n"
      ],
      "metadata": {
        "id": "RF6PRTg1CYjD"
      }
    },
    {
      "cell_type": "code",
      "source": [
        "!pip install pandas\n",
        "!pip install numpy\n",
        "!pip install sqlalchemy\n",
        "!pip install openpyxl\n",
        "!pip install pikepdf\n",
        "!pip install python-docx\n",
        "!pip install pdf2docx\n",
        "!pip install docx2txt\n",
        "!pip install docx2pdf\n",
        "!pip install pandasql\n",
        "!pip install seaborn\n",
        "!pip install reverse-geocode\n",
        "!pip install rasterio"
      ],
      "metadata": {
        "id": "8u7_XH5NC_vS"
      },
      "execution_count": null,
      "outputs": []
    },
    {
      "cell_type": "markdown",
      "source": [
        "# Data pipeline"
      ],
      "metadata": {
        "id": "9VZfIaDhDsxA"
      }
    },
    {
      "cell_type": "code",
      "source": [
        "import os\n",
        "from google.colab import drive\n",
        "drive.mount('/content/drive')"
      ],
      "metadata": {
        "id": "enmhgO_CK291"
      },
      "execution_count": null,
      "outputs": []
    },
    {
      "cell_type": "code",
      "source": [
        "#converte arquivos pdf em docx\n",
        "import os\n",
        "# importa o módulo pdf2docx para converter PDF em DOCX\n",
        "from pdf2docx import Converter\n",
        "\n",
        "# define o caminho para o diretório onde os arquivos PDF estão localizados\n",
        "path = '/content/drive/MyDrive/bdproject/pdf'\n",
        "# conte o número de arquivos PDF no diretório\n",
        "file_count = len([name for name in os.listdir(path) if os.path.isfile(os.path.join(path, name))])\n",
        "\n",
        "# loop em cada arquivo PDF e converta-o em DOCX\n",
        "for i in range(1, file_count+1):\n",
        "    # defina o nome do arquivo DOCX de saída\n",
        "    new_doc = f\"registro_velocidade_{i:02d}.docx\"\n",
        "    # cria um objeto Converter para o arquivo PDF atual\n",
        "    obj = Converter(f\"/content/drive/MyDrive/bdproject/pdf/registro_velocidade_{i:02d}.pdf\")\n",
        "    # converte o PDF em DOCX e salve-o no arquivo de saída\n",
        "    obj.convert(new_doc)\n",
        "    # fecha o objeto Converter\n",
        "    obj.close()\n",
        "    # imprima uma mensagem para indicar que a conversão foi concluída\n",
        "    print(f\"registro_velocidade_{i:02d}: Completed!\")\n",
        "\n",
        "print(f\"All files completed:{file_count} docxs created\")"
      ],
      "metadata": {
        "id": "CLouHLAAPgT6"
      },
      "execution_count": null,
      "outputs": []
    },
    {
      "cell_type": "code",
      "source": [
        "#converte arquivos docx em xlsx\n",
        "import docx2txt\n",
        "from docx import Document\n",
        "from openpyxl import Workbook\n",
        "import os\n",
        "import pandas as pd\n",
        "import numpy as np\n",
        "from pandasql import sqldf\n",
        "from sqlalchemy import create_engine\n",
        "from sqlalchemy import text\n",
        "\n",
        "# define o caminho para o diretório onde os arquivos PDF estão localizados\n",
        "path = '/content/drive/MyDrive/bdproject/docx'\n",
        "# conte o número de arquivos PDF no diretório\n",
        "file_count = len([name for name in os.listdir(path) if os.path.isfile(os.path.join(path, name))])\n",
        "\n",
        "for i in range(1, file_count+1):\n",
        "    document = Document(f'/content/drive/MyDrive/bdproject/docx/registro_velocidade_{i:02d}.docx')\n",
        "    tables = []\n",
        "    for table in document.tables:\n",
        "            rows = []\n",
        "            for row in table.rows:\n",
        "                    cells = []\n",
        "                    for cell in row.cells:\n",
        "                        cells.append(cell.text)\n",
        "                    rows.append(cells) # adicione as células ao final da lista rows\n",
        "            tables.append(rows) # adicione as linhas ao final da lista tables\n",
        "    # Create a new xlsx file and add the tables to it\n",
        "    workbook = Workbook()\n",
        "    for j, table in enumerate(tables): # use j em vez de i\n",
        "            worksheet = workbook.create_sheet(title=f\"Table {j+1}\")\n",
        "            for row_index, row in enumerate(table):\n",
        "                for col_index, cell in enumerate(row):\n",
        "                    worksheet.cell(row=row_index+1, column=col_index+1, value=cell)\n",
        "\n",
        "    workbook.save(f'/content/drive/MyDrive/bdproject/xlsx/registro_velocidade_{i:02d}.xlsx') # use um nome diferente para cada arquivo xlsx\n",
        "    print(f'{len(workbook.sheetnames)}')"
      ],
      "metadata": {
        "id": "ujkampBGinQ2"
      },
      "execution_count": null,
      "outputs": []
    },
    {
      "cell_type": "code",
      "source": [
        "pd.options.display.float_format=\"{:.2f}\".format"
      ],
      "metadata": {
        "id": "OJNeJMl0myjr"
      },
      "execution_count": null,
      "outputs": []
    },
    {
      "cell_type": "code",
      "source": [
        "import pandas as pd\n",
        "import numpy as np"
      ],
      "metadata": {
        "id": "JHui52s98GfV"
      },
      "execution_count": null,
      "outputs": []
    },
    {
      "cell_type": "code",
      "source": [
        "# Import the necessary libraries\n",
        "import pandas as pd\n",
        "import os\n",
        "\n",
        "\n",
        "# Define the path to the directory where the excel files are located\n",
        "path = '/content/drive/MyDrive/bdproject/xlsx'\n",
        "\n",
        "# Count the number of excel files in the directory\n",
        "file_count = len([name for name in os.listdir(path) if os.path.isfile(os.path.join(path, name))])\n",
        "\n",
        "# Loop through each excel file\n",
        "for i in range(1, 2):\n",
        "    df_frames= pd.DataFrame()\n",
        "    # Read the excel file as a workbook object\n",
        "    workbook = pd.ExcelFile(f'/content/drive/MyDrive/bdproject/xlsx/registro_velocidade_{i:02d}.xlsx')\n",
        "    for s in range(1,len(workbook.sheet_names)-1):\n",
        "        sheet = pd.read_excel(f'/content/drive/MyDrive/bdproject/xlsx/registro_velocidade_{i:02d}.xlsx', sheet_name=f'Table {s}')\n",
        "        if (sheet.columns[len(sheet.columns)-1])==10:\n",
        "            sheet = sheet.drop(sheet.columns[len(sheet.columns)-1], axis=1, inplace=True)\n",
        "\n",
        "        df_frames =df_frames.append(sheet,ignore_index=False)\n"
      ],
      "metadata": {
        "id": "LjicQhnD4G5F"
      },
      "execution_count": null,
      "outputs": []
    },
    {
      "cell_type": "code",
      "source": [
        "df_frames= pd.DataFrame()\n",
        "# Read the excel file as a workbook object\n",
        "workbook = pd.ExcelFile(f'/content/drive/MyDrive/bdproject/xlsx/registro_velocidade_{i:02d}.xlsx')\n",
        "for s in range(1,len(workbook.sheet_names)-1):\n",
        "    sheet = pd.read_excel(f'/content/drive/MyDrive/bdproject/xlsx/registro_velocidade_{i:02d}.xlsx', sheet_name=f'Table {s}')\n",
        "    if (sheet.columns[len(sheet.columns)-1])==10:\n",
        "        sheet = sheet.drop(sheet.columns[len(sheet.columns)-1], axis=1, inplace=True)\n"
      ],
      "metadata": {
        "id": "MQ-ws3dKNP9q"
      },
      "execution_count": null,
      "outputs": []
    },
    {
      "cell_type": "code",
      "source": [],
      "metadata": {
        "id": "gsry0JbaMaRP"
      },
      "execution_count": null,
      "outputs": []
    },
    {
      "cell_type": "code",
      "source": [
        "raw_frame = pd.DataFrame()\n",
        "    # Loop through each sheet in the workbook\n",
        "    for j in range(1, sheet_count-1):\n",
        "        # Read the sheet as a dataframe object\n",
        "        sheet = pd.read_excel(workbook, sheet_name=f'Table {j}')\n",
        "        if  j == 1:\n",
        "            sheet.drop([sheet.columns[3]],axis=1, inplace=True)\n",
        "        else:\n",
        "            pass\n",
        "\n",
        "        if sheet.shape[1] == 10:\n",
        "                    sheet = sheet.drop([sheet.colmns[9]],axis=1,inplace=True)\n",
        "        else:\n",
        "            pass\n",
        "\n",
        "        if sheet.shape[1]==9:\n",
        "                    sheet.rename(columns={sheet.columns[0]:'Data e Hora',\n",
        "                                  sheet.columns[2]:'Latitude',\n",
        "                                  sheet.columns[3]:'Longitude',\n",
        "                                  sheet.columns[4]:'Vel. (Km/h)',\n",
        "                                  sheet.columns[5]:'Km Aprox.',\n",
        "                                  sheet.columns[6]:'Parado',\n",
        "                                  sheet.columns[7]:'Tipo Msg.',\n",
        "                                  sheet.columns[8]:'Log'} )\n",
        "        else:\n",
        "            pass\n",
        "\n",
        "        if sheet.shape[1]==8:\n",
        "            sheet.rename(columns={sheet.columns[0]:'Data e Hora',\n",
        "                                  sheet.columns[2]:'Latitude',\n",
        "                                  sheet.columns[3]:'Longitude',\n",
        "                                  sheet.columns[4]:'Vel. (Km/h)',\n",
        "                                  sheet.columns[5]:'Km Aprox.',\n",
        "                                  sheet.columns[6]:'Parado',\n",
        "                                  sheet.columns[7]:'Tipo Msg.',\n",
        "                                  } )\n",
        "        else:\n",
        "            pass\n",
        "        raw_frame = pd.concat([raw_frame,sheet], axis=0)\n"
      ],
      "metadata": {
        "id": "S-6esJ4yBBTS"
      },
      "execution_count": null,
      "outputs": []
    },
    {
      "cell_type": "code",
      "source": [
        " if sheet.shape[1] == 10:\n",
        "            sheet.rename(columns={sheet.columns[0]:'Data e Hora',\n",
        "                                                        sheet.columns[2]:'Latitude',\n",
        "                                                        sheet.columns[3]:'Longitude',\n",
        "                                                        sheet.columns[4]:'Vel. (Km/h)',\n",
        "                                                        sheet.columns[5]:'Km Aprox.',\n",
        "                                                        sheet.columns[6]:'Parado',\n",
        "                                                        sheet.columns[7]:'Tipo Msg.',\n",
        "                                                        sheet.columns[8]:'Log'} )\n",
        "                        else:\n",
        "                            continue\n",
        "\n",
        "                        if sheet.shape[1]==8:\n",
        "                            sheet= sheet.rename(columns={sheet.columns[0]:'Data e Hora',\n",
        "                                                    sheet.columns[1]:'Localização',\n",
        "                                                    sheet.columns[2]:'Latitude',\n",
        "                                                    sheet.columns[3]:'Longitude',\n",
        "                                                    sheet.columns[4]:'Vel. (Km/h)',\n",
        "                                                    sheet.columns[5]:'Km Aprox.',\n",
        "                                                    sheet.columns[6]:'Parado',\n",
        "                                                    sheet.columns[7]:'Tipo Msg.'})\n",
        "                        else:\n",
        "                            continue\n",
        "\n",
        "                        raw_frame= pd.concat([raw_frame,sheet])\n"
      ],
      "metadata": {
        "id": "Ophs1_8h0HRC"
      },
      "execution_count": null,
      "outputs": []
    },
    {
      "cell_type": "code",
      "source": [
        "raw_frame.shape"
      ],
      "metadata": {
        "id": "IeELC88exfNm"
      },
      "execution_count": null,
      "outputs": []
    },
    {
      "cell_type": "code",
      "source": [
        "sheet.head()"
      ],
      "metadata": {
        "id": "0hPMyZBomgIJ"
      },
      "execution_count": null,
      "outputs": []
    },
    {
      "cell_type": "code",
      "source": [
        "sheet.columns = default_columns\n",
        "        else:\n",
        "            # Print an error message and skip to the next sheet\n",
        "            print(f\"Error: Table {j} does not have enough columns\")\n",
        "            continue\n",
        "        # Append the dataframe to the raw_frame\n",
        "        raw_frame = pd.concat([raw_frame,sheet], axis=0)\n",
        "    # Save the raw_frame as an excel file\n",
        "    raw_frame.to_excel(f'/content/drive/MyDrive/bdproject/csv/Frame_{i:02d}.xlsx')\n",
        "    print(f'Frame_{i:02d} created')\n"
      ],
      "metadata": {
        "id": "5z6tGxaIOAWw"
      },
      "execution_count": null,
      "outputs": []
    },
    {
      "cell_type": "code",
      "source": [
        " # Try to rename the columns of the dataframe\n",
        "        try:\n",
        "            # Rename the columns using a dictionary\n",
        "            sheet_renamed = sheet.rename(columns={sheet.columns[0]:'Data e Hora',\n",
        "                                              sheet.columns[1]:'Localização',\n",
        "                                              sheet.columns[2]:'Latitude',\n",
        "                                              sheet.columns[3]:'Longitude',\n",
        "                                              sheet.columns[4]:'Vel. (Km/h)',\n",
        "                                              sheet.columns[5]:'Km Aprox.',\n",
        "                                              sheet.columns[6]:'Parado',\n",
        "                                              sheet.columns[7]:'Tipo Msg.'\n",
        "                                             })\n",
        "        except KeyError:\n",
        "                # Handle the key error if any column does not exist\n",
        "                print(f\"Error: could not rename columns in Table {j}\")\n",
        "                # Exit the program with an error status\n",
        "                sys.exit(1)\n",
        "        # Append the dataframe to the raw_frame\n",
        "        raw_frame = pd.concat([raw_frame,sheet_renamed], axis=0)\n",
        "    # Rename the columns of the raw_frame using a list of new column names\n",
        "    raw_frame.columns = ['Data e Hora', 'Localização', 'Latitude', 'Longitude', 'Vel. (Km/h)', 'Km Aprox.', 'Parado', 'Tipo Msg.']\n",
        "    # Save the raw_frame as an excel file\n",
        "    raw_frame.to_excel(f'/content/drive/MyDrive/bdproject/csv/Frame_{i:02d}.xlsx')\n",
        "    print(f'Frame_{i:02d} created')\n"
      ],
      "metadata": {
        "id": "yDpgWrjCKph4"
      },
      "execution_count": null,
      "outputs": []
    },
    {
      "cell_type": "code",
      "source": [
        "# Import the pandas library\n",
        "import pandas as pd\n",
        "# Import the numpy library\n",
        "import numpy as np\n",
        "# Import the geopy library\n",
        "import geopy\n",
        "# Import the glob module\n",
        "import glob\n",
        "\n",
        "# Define a function that takes latitude and longitude as parameters and returns the region name\n",
        "def get_region_name(lat, lon):\n",
        "  # Create a geopy Nominatim object without a timeout parameter\n",
        "  geolocator = geopy.Nominatim(user_agent=\"Bing\")\n",
        "  # Use the reverse method to get the location information from the coordinates\n",
        "  location = geolocator.reverse((lat, lon))\n",
        "  # Get the region name from the location.raw dictionary\n",
        "  region_name = location.raw[\"address\"][\"region\"]\n",
        "  # Return the region name\n",
        "  return region_name\n",
        "\n",
        "# Define a function that takes latitude and longitude as parameters and returns the state name\n",
        "def get_state_name(lat, lon):\n",
        "  # Create a geopy Nominatim object without a timeout parameter\n",
        "  geolocator = geopy.Nominatim(user_agent=\"Bing\")\n",
        "  # Use the reverse method to get the location information from the coordinates\n",
        "  location = geolocator.reverse((lat, lon))\n",
        "  # Get the state name from the location.raw dictionary\n",
        "  state_name = location.raw[\"address\"][\"state\"]\n",
        "  # Return the state name\n",
        "  return state_name"
      ],
      "metadata": {
        "id": "TYI9BvUFdymu"
      },
      "execution_count": null,
      "outputs": []
    },
    {
      "cell_type": "code",
      "source": [
        "# Define the path to the directory where the excel files are located\n",
        "path = '/content/drive/MyDrive/bdproject/csv/'\n",
        "\n",
        "# Count the number of excel files in the directory\n",
        "file_count = len([name for name in os.listdir(path) if os.path.isfile(os.path.join(path, name))])\n",
        "\n",
        "# Loop through each excel file\n",
        "for i in range(1, file_count+1):\n",
        "    dataframe = pd.read_excel(f\"/content/drive/MyDrive/bdproject/csv/Frame_{i:02d}.xlsx\")\n",
        "\n",
        "    # Add some columns with fixed values\n",
        "    dataframe['Placa'] = (f\"PLACAXYZ-{i:02d}\")\n",
        "    dataframe['Tipo Acidente'] = \"Colisão Traseira\"\n",
        "\n",
        "    # Convert the Data e Hora column to datetime format and extract some features\n",
        "\n",
        "    dataframe = dataframe[dataframe['Data e Hora']!='Data e Hora']\n",
        "    dataframe[\"Data e Hora\"] = pd.to_datetime(dataframe[\"Data e Hora\"])\n",
        "    dataframe['Dia da Semana'] = dataframe['Data e Hora'].dt.day_name()\n",
        "    dataframe[\"Periodo\"] = np.where((dataframe[\"Data e Hora\"].dt.hour<12), \"Manhã\",np.where((dataframe[\"Data e Hora\"].dt.hour<18),'Tarde','Noite'))\n",
        "\n",
        "    # Replace the \",\" values by \".\" values in Latitude and Longitude columns\n",
        "    dataframe['Latitude'] = dataframe['Latitude'].str.replace(\",\", \".\")\n",
        "    dataframe['Longitude'] = dataframe['Longitude'].str.replace(\",\", \".\")\n",
        "\n",
        "    # Filter out the rows where Vel. (Km/h) is zero or negative\n",
        "    dataframe = dataframe[((dataframe['Vel. (Km/h)']!='Vel. (Km/h)'))]\n",
        "\n",
        "    # Apply the functions to get the region name, state name and road type for each row of the dataframe\n",
        "    dataframe[\"Região\"] = dataframe.apply(lambda row: get_region_name(row[\"Latitude\"], row[\"Longitude\"]), axis=1)\n",
        "    dataframe[\"UF\"] = dataframe.apply(lambda row: get_state_name(row[\"Latitude\"], row[\"Longitude\"]), axis=1)\n",
        "\n",
        "    # Drop the Unnamed: 0 column as it is not needed\n",
        "    dataframe.drop(['Unnamed: 0'], axis = 1, inplace = True)\n",
        "\n",
        "    # Append the dataframe to the list of dataframes\n",
        "    dataframe.to_excel(f'/content/drive/MyDrive/bdproject/xlsx_frame/frame_{i:02d}.xlsx')\n",
        "    print((f'/content/drive/MyDrive/bdproject/xlsx_frame/frame_{i:02d}.xlsx'))\n",
        "\n",
        "print('ok')"
      ],
      "metadata": {
        "id": "tK6dztSiwzCA"
      },
      "execution_count": null,
      "outputs": []
    },
    {
      "cell_type": "code",
      "source": [
        "import pandas as pd\n",
        "path = '/content/drive/MyDrive/bdproject/xlsx_frame'\n",
        "file_count = len([name for name in os.listdir(path) if os.path.isfile(os.path.join(path, name))])\n",
        "\n",
        "tabell = pd.DataFrame()\n",
        "\n",
        "for i in range(1, file_count+1):\n",
        "    temp_df = pd.read_excel(f'/content/drive/MyDrive/bdproject/xlsx_frame/frame{i:02d}.xlsx')\n",
        "    temp_df['Log'] = \"-\"\n",
        "    temp_df = temp_df[['Unnamed: 0', 'Data e Hora', 'Localização', 'Latitude', 'Longitude', 'Vel. (Km/h)', 'Km Aprox.', 'Parado', 'Tipo Msg.', 'Log', 'Placa', 'Tipo Acidente', 'Dia da Semana', 'Periodo', 'Região', 'UF']]\n",
        "    tabell = tabell.append(temp_df, ignore_index=True)\n",
        "    print(temp_df.shape)"
      ],
      "metadata": {
        "id": "IX9NAkNjFiIO"
      },
      "execution_count": null,
      "outputs": []
    },
    {
      "cell_type": "code",
      "source": [
        "tabell.head()"
      ],
      "metadata": {
        "id": "2d5cHgZbzTPA"
      },
      "execution_count": null,
      "outputs": []
    },
    {
      "cell_type": "code",
      "source": [
        "tabell.drop(['Unnamed: 0', 'Km Aprox.', 'Parado', 'Tipo Msg.', 'Log'], axis=1, inplace=True)\n",
        "tabell[['Placa', 'Data e Hora','Tipo Acidente', 'Dia da Semana', 'Periodo', 'Região', 'UF', 'Vel. (Km/h)']]\n",
        "tabell.to_excel('/content/drive/MyDrive/bdproject/dataframe_output/dataframe_output.xlsx')\n",
        "pd.options.display.float_format=\"{:.2f}\".format"
      ],
      "metadata": {
        "id": "3-6DYf-25NkF"
      },
      "execution_count": null,
      "outputs": []
    }
  ]
}